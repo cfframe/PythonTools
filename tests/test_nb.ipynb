{
 "cells": [
  {
   "cell_type": "markdown",
   "id": "6b7c2563",
   "metadata": {},
   "source": [
    "# Test comment"
   ]
  },
  {
   "cell_type": "code",
   "execution_count": 1,
   "id": "5f77b88d",
   "metadata": {},
   "outputs": [
    {
     "name": "stdout",
     "output_type": "stream",
     "text": [
      "['ACTIVE', 'ALL', 'ANCHOR', 'ARC', 'BASELINE', 'BEVEL', 'BOTH', 'BOTTOM', 'BROWSE', 'BUTT', 'BaseWidget', 'BitmapImage', 'BooleanVar', 'Button', 'CASCADE', 'CENTER', 'CHAR', 'CHECKBUTTON', 'CHORD', 'COMMAND', 'CURRENT', 'CallWrapper', 'Canvas', 'Checkbutton', 'DISABLED', 'DOTBOX', 'DoubleVar', 'E', 'END', 'EW', 'EXCEPTION', 'EXTENDED', 'Entry', 'Event', 'EventType', 'FALSE', 'FIRST', 'FLAT', 'Frame', 'GROOVE', 'Grid', 'HIDDEN', 'HORIZONTAL', 'INSERT', 'INSIDE', 'Image', 'IntVar', 'LAST', 'LEFT', 'Label', 'LabelFrame', 'Listbox', 'MITER', 'MOVETO', 'MULTIPLE', 'Menu', 'Menubutton', 'Message', 'Misc', 'N', 'NE', 'NO', 'NONE', 'NORMAL', 'NS', 'NSEW', 'NUMERIC', 'NW', 'NoDefaultRoot', 'OFF', 'ON', 'OUTSIDE', 'OptionMenu', 'PAGES', 'PIESLICE', 'PROJECTING', 'Pack', 'PanedWindow', 'PhotoImage', 'Place', 'RADIOBUTTON', 'RAISED', 'READABLE', 'RIDGE', 'RIGHT', 'ROUND', 'Radiobutton', 'S', 'SCROLL', 'SE', 'SEL', 'SEL_FIRST', 'SEL_LAST', 'SEPARATOR', 'SINGLE', 'SOLID', 'SUNKEN', 'SW', 'Scale', 'Scrollbar', 'Spinbox', 'StringVar', 'TOP', 'TRUE', 'Tcl', 'TclError', 'TclVersion', 'Text', 'Tk', 'TkVersion', 'Toplevel', 'UNDERLINE', 'UNITS', 'VERTICAL', 'Variable', 'W', 'WORD', 'WRITABLE', 'Widget', 'Wm', 'X', 'XView', 'Y', 'YES', 'YView', '__all__', '__builtins__', '__cached__', '__doc__', '__file__', '__loader__', '__name__', '__package__', '__path__', '__spec__', '_cnfmerge', '_default_root', '_exit', '_flatten', '_get_default_root', '_join', '_magic_re', '_setit', '_space_re', '_splitdict', '_stringify', '_support_default_root', '_test', '_tkerror', '_tkinter', '_varnum', 'constants', 'enum', 'getboolean', 'getdouble', 'getint', 'image_names', 'image_types', 'mainloop', 're', 'sys', 'types', 'wantobjects']\n"
     ]
    }
   ],
   "source": [
    "import tkinter\n",
    "print(dir(tkinter))"
   ]
  },
  {
   "cell_type": "code",
   "execution_count": 2,
   "id": "16ea65f1",
   "metadata": {},
   "outputs": [],
   "source": [
    "from tkinter import Label"
   ]
  },
  {
   "cell_type": "code",
   "execution_count": 3,
   "id": "0167d6c0",
   "metadata": {},
   "outputs": [
    {
     "name": "stdout",
     "output_type": "stream",
     "text": [
      "Help on package ipywidgets.widgets in ipywidgets:\n",
      "\n",
      "NAME\n",
      "    ipywidgets.widgets\n",
      "\n",
      "DESCRIPTION\n",
      "    # Copyright (c) Jupyter Development Team.\n",
      "    # Distributed under the terms of the Modified BSD License.\n",
      "\n",
      "PACKAGE CONTENTS\n",
      "    docutils\n",
      "    domwidget\n",
      "    interaction\n",
      "    tests (package)\n",
      "    trait_types\n",
      "    util\n",
      "    valuewidget\n",
      "    widget\n",
      "    widget_bool\n",
      "    widget_box\n",
      "    widget_button\n",
      "    widget_color\n",
      "    widget_controller\n",
      "    widget_core\n",
      "    widget_date\n",
      "    widget_description\n",
      "    widget_float\n",
      "    widget_int\n",
      "    widget_layout\n",
      "    widget_link\n",
      "    widget_media\n",
      "    widget_output\n",
      "    widget_selection\n",
      "    widget_selectioncontainer\n",
      "    widget_string\n",
      "    widget_style\n",
      "    widget_templates\n",
      "    widget_upload\n",
      "\n",
      "DATA\n",
      "    interact = <ipywidgets.widgets.interaction._InteractFactory object>\n",
      "    interact_manual = <ipywidgets.widgets.interaction._InteractFactory obj...\n",
      "    widget_serialization = {'from_json': <function _json_to_widget>, 'to_j...\n",
      "\n",
      "FILE\n",
      "    c:\\github\\pythontools\\venv\\lib\\site-packages\\ipywidgets\\widgets\\__init__.py\n",
      "\n",
      "\n"
     ]
    }
   ],
   "source": [
    "import ipywidgets\n",
    "help(ipywidgets.widgets)"
   ]
  },
  {
   "cell_type": "code",
   "execution_count": null,
   "id": "6fc5d7d5",
   "metadata": {},
   "outputs": [],
   "source": []
  }
 ],
 "metadata": {
  "kernelspec": {
   "display_name": "Python 3 (ipykernel)",
   "language": "python",
   "name": "python3"
  },
  "language_info": {
   "codemirror_mode": {
    "name": "ipython",
    "version": 3
   },
   "file_extension": ".py",
   "mimetype": "text/x-python",
   "name": "python",
   "nbconvert_exporter": "python",
   "pygments_lexer": "ipython3",
   "version": "3.9.13"
  }
 },
 "nbformat": 4,
 "nbformat_minor": 5
}
