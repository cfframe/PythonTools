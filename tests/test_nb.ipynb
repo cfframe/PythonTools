{
 "cells": [
  {
   "cell_type": "markdown",
   "id": "6b7c2563",
   "metadata": {},
   "source": [
    "# Test comment"
   ]
  },
  {
   "cell_type": "code",
   "execution_count": null,
   "id": "5f77b88d",
   "metadata": {},
   "outputs": [],
   "source": [
    "import tkinter\n",
    "print(dir(tkinter))"
   ]
  },
  {
   "cell_type": "code",
   "execution_count": null,
   "id": "16ea65f1",
   "metadata": {},
   "outputs": [],
   "source": [
    "from tkinter import Label"
   ]
  },
  {
   "cell_type": "code",
   "execution_count": null,
   "id": "0167d6c0",
   "metadata": {},
   "outputs": [],
   "source": [
    "import ipywidgets\n",
    "help(ipywidgets.widgets)"
   ]
  },
  {
   "cell_type": "code",
   "execution_count": null,
   "id": "6fc5d7d5",
   "metadata": {},
   "outputs": [],
   "source": []
  }
 ],
 "metadata": {
  "kernelspec": {
   "display_name": "Python 3 (ipykernel)",
   "language": "python",
   "name": "python3"
  },
  "language_info": {
   "codemirror_mode": {
    "name": "ipython",
    "version": 3
   },
   "file_extension": ".py",
   "mimetype": "text/x-python",
   "name": "python",
   "nbconvert_exporter": "python",
   "pygments_lexer": "ipython3",
   "version": "3.9.13"
  }
 },
 "nbformat": 4,
 "nbformat_minor": 5
}
